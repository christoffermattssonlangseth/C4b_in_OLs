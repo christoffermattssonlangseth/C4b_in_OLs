{
 "cells": [
  {
   "cell_type": "code",
   "execution_count": 6,
   "id": "dbfc7127-3850-47d7-9557-5542226cfe55",
   "metadata": {},
   "outputs": [],
   "source": [
    "import os\n",
    "import scanpy as sc\n",
    "import pandas as pd"
   ]
  },
  {
   "cell_type": "code",
   "execution_count": 12,
   "id": "ee47ae39-51c9-42fe-93b5-b84e31509bc7",
   "metadata": {},
   "outputs": [],
   "source": [
    "base_dir = '/Users/christoffer/Downloads/xenium_alzheimer'\n",
    "\n",
    "# Only keep subfolders matching \"GoncaloTing\"\n",
    "runs = [d for d in os.listdir(base_dir) if 'Xenium' in d]"
   ]
  },
  {
   "cell_type": "code",
   "execution_count": 15,
   "id": "cb6ed89f-ec90-446a-b516-2f61040ecbe5",
   "metadata": {},
   "outputs": [
    {
     "data": {
      "text/plain": [
       "[]"
      ]
     },
     "execution_count": 15,
     "metadata": {},
     "output_type": "execute_result"
    }
   ],
   "source": [
    "samples"
   ]
  },
  {
   "cell_type": "code",
   "execution_count": 23,
   "id": "9eab27bf-e1c5-4a73-8682-afd52fadab4c",
   "metadata": {},
   "outputs": [
    {
     "name": "stdout",
     "output_type": "stream",
     "text": [
      "Loading sample: /Users/christoffer/Downloads/xenium_alzheimer/Xenium_V1_FFPE_TgCRND8_17_9_months_outs\n"
     ]
    }
   ],
   "source": [
    "\n",
    "\n",
    "ad_list = []\n",
    "\n",
    "for run in runs:\n",
    "    print\n",
    "    sample_path = os.path.join(base_dir, run)\n",
    "\n",
    "    h5_path = os.path.join(sample_path, 'cell_feature_matrix.h5')\n",
    "    cell_info_path = os.path.join(sample_path, 'cells.csv.gz')\n",
    "\n",
    "    if not (os.path.exists(h5_path) and os.path.exists(cell_info_path)):\n",
    "        print(f\"Skipping {sample_path} (missing required files)\")\n",
    "        continue\n",
    "\n",
    "    print(f\"Loading sample: {sample_path}\")\n",
    "    ad_int = sc.read_10x_h5(h5_path)\n",
    "    cell_info = pd.read_csv(cell_info_path, index_col=0)\n",
    "\n",
    "    ad_int.obs = cell_info\n",
    "    ad_int.obs['run'] = run\n",
    "    ad_list.append(ad_int)"
   ]
  },
  {
   "cell_type": "code",
   "execution_count": 24,
   "id": "4a0a7dff-4de9-4e81-ab93-06119658276a",
   "metadata": {},
   "outputs": [],
   "source": [
    "ad = sc.concat(ad_list)"
   ]
  },
  {
   "cell_type": "code",
   "execution_count": 27,
   "id": "f380428f-cf06-4229-a598-3d4cd68c6fd5",
   "metadata": {},
   "outputs": [
    {
     "ename": "AttributeError",
     "evalue": "median not found",
     "output_type": "error",
     "traceback": [
      "\u001b[0;31m---------------------------------------------------------------------------\u001b[0m",
      "\u001b[0;31mAttributeError\u001b[0m                            Traceback (most recent call last)",
      "Cell \u001b[0;32mIn[27], line 1\u001b[0m\n\u001b[0;32m----> 1\u001b[0m \u001b[43mad\u001b[49m\u001b[38;5;241;43m.\u001b[39;49m\u001b[43mX\u001b[49m\u001b[38;5;241;43m.\u001b[39;49m\u001b[43mmedian\u001b[49m()\n",
      "File \u001b[0;32m~/miniconda3/envs/sc/lib/python3.8/site-packages/scipy/sparse/_base.py:771\u001b[0m, in \u001b[0;36mspmatrix.__getattr__\u001b[0;34m(self, attr)\u001b[0m\n\u001b[1;32m    769\u001b[0m     \u001b[38;5;28;01mreturn\u001b[39;00m \u001b[38;5;28mself\u001b[39m\u001b[38;5;241m.\u001b[39mgetnnz()\n\u001b[1;32m    770\u001b[0m \u001b[38;5;28;01melse\u001b[39;00m:\n\u001b[0;32m--> 771\u001b[0m     \u001b[38;5;28;01mraise\u001b[39;00m \u001b[38;5;167;01mAttributeError\u001b[39;00m(attr \u001b[38;5;241m+\u001b[39m \u001b[38;5;124m\"\u001b[39m\u001b[38;5;124m not found\u001b[39m\u001b[38;5;124m\"\u001b[39m)\n",
      "\u001b[0;31mAttributeError\u001b[0m: median not found"
     ]
    }
   ],
   "source": [
    "ad.X.median()"
   ]
  },
  {
   "cell_type": "code",
   "execution_count": null,
   "id": "068557a5-e8c1-4c80-878c-a62e9b0b805c",
   "metadata": {},
   "outputs": [],
   "source": []
  }
 ],
 "metadata": {
  "kernelspec": {
   "display_name": "sc",
   "language": "python",
   "name": "sc"
  },
  "language_info": {
   "codemirror_mode": {
    "name": "ipython",
    "version": 3
   },
   "file_extension": ".py",
   "mimetype": "text/x-python",
   "name": "python",
   "nbconvert_exporter": "python",
   "pygments_lexer": "ipython3",
   "version": "3.8.20"
  }
 },
 "nbformat": 4,
 "nbformat_minor": 5
}
